{
  "nbformat": 4,
  "nbformat_minor": 0,
  "metadata": {
    "colab": {
      "provenance": [],
      "toc_visible": true
    },
    "kernelspec": {
      "name": "python3",
      "display_name": "Python 3"
    },
    "language_info": {
      "name": "python"
    }
  },
  "cells": [
    {
      "cell_type": "markdown",
      "source": [
        "##**Skenario**"
      ],
      "metadata": {
        "id": "pcQt1miWeaUM"
      }
    },
    {
      "cell_type": "markdown",
      "source": [
        "Sebuah jaringan restoran cepat saji berencana menambahkan menu baru. Namun, mereka masih ragu untuk memilih salah satu dari tiga kemungkinan kampanye pemasaran guna mempromosikan produk baru tersebut. Untuk mengetahui promosi mana yang paling berpengaruh terhadap penjualan, menu baru diperkenalkan di beberapa lokasi yang dipilih secara acak pada pasar tertentu. Setiap lokasi menggunakan strategi promosi yang berbeda, lalu penjualan mingguan produk baru tersebut dicatat selama empat minggu pertama."
      ],
      "metadata": {
        "id": "uIEueo_aZNgg"
      }
    },
    {
      "cell_type": "markdown",
      "source": [
        "##**Goals**"
      ],
      "metadata": {
        "id": "-KdIKq_Mem13"
      }
    },
    {
      "cell_type": "markdown",
      "source": [
        "Mengevaluasi hasil uji A/B dan menentukan strategi pemasaran mana yang memberikan hasil penjualan terbaik."
      ],
      "metadata": {
        "id": "LKGoO6v8epBv"
      }
    },
    {
      "cell_type": "markdown",
      "source": [
        "##**Variabel yang Tersedia**"
      ],
      "metadata": {
        "id": "WPcz41mnOupB"
      }
    },
    {
      "cell_type": "markdown",
      "source": [
        "Dari dataset yang dimiliki terdapat beberapa data yang tersedia:\n",
        "\n",
        "---\n",
        "\n",
        "**1. MarketID:** pengidentifikasi unik untuk pasar\\\n",
        "**2. MarketSize:** ukuran area pasar berdasarkan penjualan\\\n",
        "**3. LocationID:** pengidentifikasi unik untuk lokasi toko\\\n",
        "**4. AgeOfStore:** usia toko dalam tahun\\\n",
        "**5. Promotion:** satu dari tiga promosi yang diuji\\\n",
        "**6. week:** satu dari empat minggu saat promosi dijalankan\\\n",
        "**7. SalesInThousands:** jumlah penjualan untuk LocationID, Promosi, dan minggu tertentu"
      ],
      "metadata": {
        "id": "MfLo9wRPOxZI"
      }
    },
    {
      "cell_type": "markdown",
      "source": [
        "##**Data Preparation and Understanding**"
      ],
      "metadata": {
        "id": "1iHU8gVge0XO"
      }
    },
    {
      "cell_type": "markdown",
      "source": [
        "####**Import Library and Load Data**"
      ],
      "metadata": {
        "id": "KCklBxqUe5hf"
      }
    },
    {
      "cell_type": "code",
      "execution_count": 9,
      "metadata": {
        "id": "kf8Os_mMYve4"
      },
      "outputs": [],
      "source": [
        "import numpy as np\n",
        "import pandas as pd\n",
        "import matplotlib.pyplot as plt\n",
        "import seaborn as sns\n",
        "from scipy import stats\n",
        "import statsmodels.api as sm\n",
        "from statsmodels.formula.api import ols\n",
        "from statsmodels.stats.multicomp import pairwise_tukeyhsd"
      ]
    },
    {
      "cell_type": "code",
      "source": [
        "df = pd.read_csv('WA_Marketing-Campaign.csv', header=0)\n",
        "pd.set_option('display.max_column', None)"
      ],
      "metadata": {
        "id": "DnIfp1NyZGpD"
      },
      "execution_count": 10,
      "outputs": []
    },
    {
      "cell_type": "markdown",
      "source": [
        "####**Data Inspection**"
      ],
      "metadata": {
        "id": "wdAtVid5fBHf"
      }
    },
    {
      "cell_type": "code",
      "source": [
        "# Dataframe\n",
        "df"
      ],
      "metadata": {
        "colab": {
          "base_uri": "https://localhost:8080/",
          "height": 423
        },
        "id": "wVeNpEkmZeIC",
        "outputId": "dec8b135-3f70-488c-9d68-c94479286663"
      },
      "execution_count": 61,
      "outputs": [
        {
          "output_type": "execute_result",
          "data": {
            "text/plain": [
              "     MarketID MarketSize  LocationID  AgeOfStore  Promotion  week  \\\n",
              "0           1     Medium           1           4          3     1   \n",
              "1           1     Medium           1           4          3     2   \n",
              "2           1     Medium           1           4          3     3   \n",
              "3           1     Medium           1           4          3     4   \n",
              "4           1     Medium           2           5          2     1   \n",
              "..        ...        ...         ...         ...        ...   ...   \n",
              "543        10      Large         919           2          1     4   \n",
              "544        10      Large         920          14          2     1   \n",
              "545        10      Large         920          14          2     2   \n",
              "546        10      Large         920          14          2     3   \n",
              "547        10      Large         920          14          2     4   \n",
              "\n",
              "     SalesInThousands  Log_Sales  \n",
              "0               33.73   3.518388  \n",
              "1               35.67   3.574310  \n",
              "2               29.03   3.368330  \n",
              "3               39.25   3.669951  \n",
              "4               27.81   3.325396  \n",
              "..                ...        ...  \n",
              "543             64.34   4.164182  \n",
              "544             50.20   3.916015  \n",
              "545             45.75   3.823192  \n",
              "546             44.29   3.790759  \n",
              "547             49.41   3.900153  \n",
              "\n",
              "[548 rows x 8 columns]"
            ],
            "text/html": [
              "\n",
              "  <div id=\"df-59f4a387-4c47-428f-9e7e-401f30573389\" class=\"colab-df-container\">\n",
              "    <div>\n",
              "<style scoped>\n",
              "    .dataframe tbody tr th:only-of-type {\n",
              "        vertical-align: middle;\n",
              "    }\n",
              "\n",
              "    .dataframe tbody tr th {\n",
              "        vertical-align: top;\n",
              "    }\n",
              "\n",
              "    .dataframe thead th {\n",
              "        text-align: right;\n",
              "    }\n",
              "</style>\n",
              "<table border=\"1\" class=\"dataframe\">\n",
              "  <thead>\n",
              "    <tr style=\"text-align: right;\">\n",
              "      <th></th>\n",
              "      <th>MarketID</th>\n",
              "      <th>MarketSize</th>\n",
              "      <th>LocationID</th>\n",
              "      <th>AgeOfStore</th>\n",
              "      <th>Promotion</th>\n",
              "      <th>week</th>\n",
              "      <th>SalesInThousands</th>\n",
              "      <th>Log_Sales</th>\n",
              "    </tr>\n",
              "  </thead>\n",
              "  <tbody>\n",
              "    <tr>\n",
              "      <th>0</th>\n",
              "      <td>1</td>\n",
              "      <td>Medium</td>\n",
              "      <td>1</td>\n",
              "      <td>4</td>\n",
              "      <td>3</td>\n",
              "      <td>1</td>\n",
              "      <td>33.73</td>\n",
              "      <td>3.518388</td>\n",
              "    </tr>\n",
              "    <tr>\n",
              "      <th>1</th>\n",
              "      <td>1</td>\n",
              "      <td>Medium</td>\n",
              "      <td>1</td>\n",
              "      <td>4</td>\n",
              "      <td>3</td>\n",
              "      <td>2</td>\n",
              "      <td>35.67</td>\n",
              "      <td>3.574310</td>\n",
              "    </tr>\n",
              "    <tr>\n",
              "      <th>2</th>\n",
              "      <td>1</td>\n",
              "      <td>Medium</td>\n",
              "      <td>1</td>\n",
              "      <td>4</td>\n",
              "      <td>3</td>\n",
              "      <td>3</td>\n",
              "      <td>29.03</td>\n",
              "      <td>3.368330</td>\n",
              "    </tr>\n",
              "    <tr>\n",
              "      <th>3</th>\n",
              "      <td>1</td>\n",
              "      <td>Medium</td>\n",
              "      <td>1</td>\n",
              "      <td>4</td>\n",
              "      <td>3</td>\n",
              "      <td>4</td>\n",
              "      <td>39.25</td>\n",
              "      <td>3.669951</td>\n",
              "    </tr>\n",
              "    <tr>\n",
              "      <th>4</th>\n",
              "      <td>1</td>\n",
              "      <td>Medium</td>\n",
              "      <td>2</td>\n",
              "      <td>5</td>\n",
              "      <td>2</td>\n",
              "      <td>1</td>\n",
              "      <td>27.81</td>\n",
              "      <td>3.325396</td>\n",
              "    </tr>\n",
              "    <tr>\n",
              "      <th>...</th>\n",
              "      <td>...</td>\n",
              "      <td>...</td>\n",
              "      <td>...</td>\n",
              "      <td>...</td>\n",
              "      <td>...</td>\n",
              "      <td>...</td>\n",
              "      <td>...</td>\n",
              "      <td>...</td>\n",
              "    </tr>\n",
              "    <tr>\n",
              "      <th>543</th>\n",
              "      <td>10</td>\n",
              "      <td>Large</td>\n",
              "      <td>919</td>\n",
              "      <td>2</td>\n",
              "      <td>1</td>\n",
              "      <td>4</td>\n",
              "      <td>64.34</td>\n",
              "      <td>4.164182</td>\n",
              "    </tr>\n",
              "    <tr>\n",
              "      <th>544</th>\n",
              "      <td>10</td>\n",
              "      <td>Large</td>\n",
              "      <td>920</td>\n",
              "      <td>14</td>\n",
              "      <td>2</td>\n",
              "      <td>1</td>\n",
              "      <td>50.20</td>\n",
              "      <td>3.916015</td>\n",
              "    </tr>\n",
              "    <tr>\n",
              "      <th>545</th>\n",
              "      <td>10</td>\n",
              "      <td>Large</td>\n",
              "      <td>920</td>\n",
              "      <td>14</td>\n",
              "      <td>2</td>\n",
              "      <td>2</td>\n",
              "      <td>45.75</td>\n",
              "      <td>3.823192</td>\n",
              "    </tr>\n",
              "    <tr>\n",
              "      <th>546</th>\n",
              "      <td>10</td>\n",
              "      <td>Large</td>\n",
              "      <td>920</td>\n",
              "      <td>14</td>\n",
              "      <td>2</td>\n",
              "      <td>3</td>\n",
              "      <td>44.29</td>\n",
              "      <td>3.790759</td>\n",
              "    </tr>\n",
              "    <tr>\n",
              "      <th>547</th>\n",
              "      <td>10</td>\n",
              "      <td>Large</td>\n",
              "      <td>920</td>\n",
              "      <td>14</td>\n",
              "      <td>2</td>\n",
              "      <td>4</td>\n",
              "      <td>49.41</td>\n",
              "      <td>3.900153</td>\n",
              "    </tr>\n",
              "  </tbody>\n",
              "</table>\n",
              "<p>548 rows × 8 columns</p>\n",
              "</div>\n",
              "    <div class=\"colab-df-buttons\">\n",
              "\n",
              "  <div class=\"colab-df-container\">\n",
              "    <button class=\"colab-df-convert\" onclick=\"convertToInteractive('df-59f4a387-4c47-428f-9e7e-401f30573389')\"\n",
              "            title=\"Convert this dataframe to an interactive table.\"\n",
              "            style=\"display:none;\">\n",
              "\n",
              "  <svg xmlns=\"http://www.w3.org/2000/svg\" height=\"24px\" viewBox=\"0 -960 960 960\">\n",
              "    <path d=\"M120-120v-720h720v720H120Zm60-500h600v-160H180v160Zm220 220h160v-160H400v160Zm0 220h160v-160H400v160ZM180-400h160v-160H180v160Zm440 0h160v-160H620v160ZM180-180h160v-160H180v160Zm440 0h160v-160H620v160Z\"/>\n",
              "  </svg>\n",
              "    </button>\n",
              "\n",
              "  <style>\n",
              "    .colab-df-container {\n",
              "      display:flex;\n",
              "      gap: 12px;\n",
              "    }\n",
              "\n",
              "    .colab-df-convert {\n",
              "      background-color: #E8F0FE;\n",
              "      border: none;\n",
              "      border-radius: 50%;\n",
              "      cursor: pointer;\n",
              "      display: none;\n",
              "      fill: #1967D2;\n",
              "      height: 32px;\n",
              "      padding: 0 0 0 0;\n",
              "      width: 32px;\n",
              "    }\n",
              "\n",
              "    .colab-df-convert:hover {\n",
              "      background-color: #E2EBFA;\n",
              "      box-shadow: 0px 1px 2px rgba(60, 64, 67, 0.3), 0px 1px 3px 1px rgba(60, 64, 67, 0.15);\n",
              "      fill: #174EA6;\n",
              "    }\n",
              "\n",
              "    .colab-df-buttons div {\n",
              "      margin-bottom: 4px;\n",
              "    }\n",
              "\n",
              "    [theme=dark] .colab-df-convert {\n",
              "      background-color: #3B4455;\n",
              "      fill: #D2E3FC;\n",
              "    }\n",
              "\n",
              "    [theme=dark] .colab-df-convert:hover {\n",
              "      background-color: #434B5C;\n",
              "      box-shadow: 0px 1px 3px 1px rgba(0, 0, 0, 0.15);\n",
              "      filter: drop-shadow(0px 1px 2px rgba(0, 0, 0, 0.3));\n",
              "      fill: #FFFFFF;\n",
              "    }\n",
              "  </style>\n",
              "\n",
              "    <script>\n",
              "      const buttonEl =\n",
              "        document.querySelector('#df-59f4a387-4c47-428f-9e7e-401f30573389 button.colab-df-convert');\n",
              "      buttonEl.style.display =\n",
              "        google.colab.kernel.accessAllowed ? 'block' : 'none';\n",
              "\n",
              "      async function convertToInteractive(key) {\n",
              "        const element = document.querySelector('#df-59f4a387-4c47-428f-9e7e-401f30573389');\n",
              "        const dataTable =\n",
              "          await google.colab.kernel.invokeFunction('convertToInteractive',\n",
              "                                                    [key], {});\n",
              "        if (!dataTable) return;\n",
              "\n",
              "        const docLinkHtml = 'Like what you see? Visit the ' +\n",
              "          '<a target=\"_blank\" href=https://colab.research.google.com/notebooks/data_table.ipynb>data table notebook</a>'\n",
              "          + ' to learn more about interactive tables.';\n",
              "        element.innerHTML = '';\n",
              "        dataTable['output_type'] = 'display_data';\n",
              "        await google.colab.output.renderOutput(dataTable, element);\n",
              "        const docLink = document.createElement('div');\n",
              "        docLink.innerHTML = docLinkHtml;\n",
              "        element.appendChild(docLink);\n",
              "      }\n",
              "    </script>\n",
              "  </div>\n",
              "\n",
              "\n",
              "    <div id=\"df-5072e27f-ef7f-4d1d-8bcf-8440fab0c971\">\n",
              "      <button class=\"colab-df-quickchart\" onclick=\"quickchart('df-5072e27f-ef7f-4d1d-8bcf-8440fab0c971')\"\n",
              "                title=\"Suggest charts\"\n",
              "                style=\"display:none;\">\n",
              "\n",
              "<svg xmlns=\"http://www.w3.org/2000/svg\" height=\"24px\"viewBox=\"0 0 24 24\"\n",
              "     width=\"24px\">\n",
              "    <g>\n",
              "        <path d=\"M19 3H5c-1.1 0-2 .9-2 2v14c0 1.1.9 2 2 2h14c1.1 0 2-.9 2-2V5c0-1.1-.9-2-2-2zM9 17H7v-7h2v7zm4 0h-2V7h2v10zm4 0h-2v-4h2v4z\"/>\n",
              "    </g>\n",
              "</svg>\n",
              "      </button>\n",
              "\n",
              "<style>\n",
              "  .colab-df-quickchart {\n",
              "      --bg-color: #E8F0FE;\n",
              "      --fill-color: #1967D2;\n",
              "      --hover-bg-color: #E2EBFA;\n",
              "      --hover-fill-color: #174EA6;\n",
              "      --disabled-fill-color: #AAA;\n",
              "      --disabled-bg-color: #DDD;\n",
              "  }\n",
              "\n",
              "  [theme=dark] .colab-df-quickchart {\n",
              "      --bg-color: #3B4455;\n",
              "      --fill-color: #D2E3FC;\n",
              "      --hover-bg-color: #434B5C;\n",
              "      --hover-fill-color: #FFFFFF;\n",
              "      --disabled-bg-color: #3B4455;\n",
              "      --disabled-fill-color: #666;\n",
              "  }\n",
              "\n",
              "  .colab-df-quickchart {\n",
              "    background-color: var(--bg-color);\n",
              "    border: none;\n",
              "    border-radius: 50%;\n",
              "    cursor: pointer;\n",
              "    display: none;\n",
              "    fill: var(--fill-color);\n",
              "    height: 32px;\n",
              "    padding: 0;\n",
              "    width: 32px;\n",
              "  }\n",
              "\n",
              "  .colab-df-quickchart:hover {\n",
              "    background-color: var(--hover-bg-color);\n",
              "    box-shadow: 0 1px 2px rgba(60, 64, 67, 0.3), 0 1px 3px 1px rgba(60, 64, 67, 0.15);\n",
              "    fill: var(--button-hover-fill-color);\n",
              "  }\n",
              "\n",
              "  .colab-df-quickchart-complete:disabled,\n",
              "  .colab-df-quickchart-complete:disabled:hover {\n",
              "    background-color: var(--disabled-bg-color);\n",
              "    fill: var(--disabled-fill-color);\n",
              "    box-shadow: none;\n",
              "  }\n",
              "\n",
              "  .colab-df-spinner {\n",
              "    border: 2px solid var(--fill-color);\n",
              "    border-color: transparent;\n",
              "    border-bottom-color: var(--fill-color);\n",
              "    animation:\n",
              "      spin 1s steps(1) infinite;\n",
              "  }\n",
              "\n",
              "  @keyframes spin {\n",
              "    0% {\n",
              "      border-color: transparent;\n",
              "      border-bottom-color: var(--fill-color);\n",
              "      border-left-color: var(--fill-color);\n",
              "    }\n",
              "    20% {\n",
              "      border-color: transparent;\n",
              "      border-left-color: var(--fill-color);\n",
              "      border-top-color: var(--fill-color);\n",
              "    }\n",
              "    30% {\n",
              "      border-color: transparent;\n",
              "      border-left-color: var(--fill-color);\n",
              "      border-top-color: var(--fill-color);\n",
              "      border-right-color: var(--fill-color);\n",
              "    }\n",
              "    40% {\n",
              "      border-color: transparent;\n",
              "      border-right-color: var(--fill-color);\n",
              "      border-top-color: var(--fill-color);\n",
              "    }\n",
              "    60% {\n",
              "      border-color: transparent;\n",
              "      border-right-color: var(--fill-color);\n",
              "    }\n",
              "    80% {\n",
              "      border-color: transparent;\n",
              "      border-right-color: var(--fill-color);\n",
              "      border-bottom-color: var(--fill-color);\n",
              "    }\n",
              "    90% {\n",
              "      border-color: transparent;\n",
              "      border-bottom-color: var(--fill-color);\n",
              "    }\n",
              "  }\n",
              "</style>\n",
              "\n",
              "      <script>\n",
              "        async function quickchart(key) {\n",
              "          const quickchartButtonEl =\n",
              "            document.querySelector('#' + key + ' button');\n",
              "          quickchartButtonEl.disabled = true;  // To prevent multiple clicks.\n",
              "          quickchartButtonEl.classList.add('colab-df-spinner');\n",
              "          try {\n",
              "            const charts = await google.colab.kernel.invokeFunction(\n",
              "                'suggestCharts', [key], {});\n",
              "          } catch (error) {\n",
              "            console.error('Error during call to suggestCharts:', error);\n",
              "          }\n",
              "          quickchartButtonEl.classList.remove('colab-df-spinner');\n",
              "          quickchartButtonEl.classList.add('colab-df-quickchart-complete');\n",
              "        }\n",
              "        (() => {\n",
              "          let quickchartButtonEl =\n",
              "            document.querySelector('#df-5072e27f-ef7f-4d1d-8bcf-8440fab0c971 button');\n",
              "          quickchartButtonEl.style.display =\n",
              "            google.colab.kernel.accessAllowed ? 'block' : 'none';\n",
              "        })();\n",
              "      </script>\n",
              "    </div>\n",
              "\n",
              "  <div id=\"id_eed3d68c-87b2-4a48-b086-f8cec73d329f\">\n",
              "    <style>\n",
              "      .colab-df-generate {\n",
              "        background-color: #E8F0FE;\n",
              "        border: none;\n",
              "        border-radius: 50%;\n",
              "        cursor: pointer;\n",
              "        display: none;\n",
              "        fill: #1967D2;\n",
              "        height: 32px;\n",
              "        padding: 0 0 0 0;\n",
              "        width: 32px;\n",
              "      }\n",
              "\n",
              "      .colab-df-generate:hover {\n",
              "        background-color: #E2EBFA;\n",
              "        box-shadow: 0px 1px 2px rgba(60, 64, 67, 0.3), 0px 1px 3px 1px rgba(60, 64, 67, 0.15);\n",
              "        fill: #174EA6;\n",
              "      }\n",
              "\n",
              "      [theme=dark] .colab-df-generate {\n",
              "        background-color: #3B4455;\n",
              "        fill: #D2E3FC;\n",
              "      }\n",
              "\n",
              "      [theme=dark] .colab-df-generate:hover {\n",
              "        background-color: #434B5C;\n",
              "        box-shadow: 0px 1px 3px 1px rgba(0, 0, 0, 0.15);\n",
              "        filter: drop-shadow(0px 1px 2px rgba(0, 0, 0, 0.3));\n",
              "        fill: #FFFFFF;\n",
              "      }\n",
              "    </style>\n",
              "    <button class=\"colab-df-generate\" onclick=\"generateWithVariable('df')\"\n",
              "            title=\"Generate code using this dataframe.\"\n",
              "            style=\"display:none;\">\n",
              "\n",
              "  <svg xmlns=\"http://www.w3.org/2000/svg\" height=\"24px\"viewBox=\"0 0 24 24\"\n",
              "       width=\"24px\">\n",
              "    <path d=\"M7,19H8.4L18.45,9,17,7.55,7,17.6ZM5,21V16.75L18.45,3.32a2,2,0,0,1,2.83,0l1.4,1.43a1.91,1.91,0,0,1,.58,1.4,1.91,1.91,0,0,1-.58,1.4L9.25,21ZM18.45,9,17,7.55Zm-12,3A5.31,5.31,0,0,0,4.9,8.1,5.31,5.31,0,0,0,1,6.5,5.31,5.31,0,0,0,4.9,4.9,5.31,5.31,0,0,0,6.5,1,5.31,5.31,0,0,0,8.1,4.9,5.31,5.31,0,0,0,12,6.5,5.46,5.46,0,0,0,6.5,12Z\"/>\n",
              "  </svg>\n",
              "    </button>\n",
              "    <script>\n",
              "      (() => {\n",
              "      const buttonEl =\n",
              "        document.querySelector('#id_eed3d68c-87b2-4a48-b086-f8cec73d329f button.colab-df-generate');\n",
              "      buttonEl.style.display =\n",
              "        google.colab.kernel.accessAllowed ? 'block' : 'none';\n",
              "\n",
              "      buttonEl.onclick = () => {\n",
              "        google.colab.notebook.generateWithVariable('df');\n",
              "      }\n",
              "      })();\n",
              "    </script>\n",
              "  </div>\n",
              "\n",
              "    </div>\n",
              "  </div>\n"
            ],
            "application/vnd.google.colaboratory.intrinsic+json": {
              "type": "dataframe",
              "variable_name": "df",
              "summary": "{\n  \"name\": \"df\",\n  \"rows\": 548,\n  \"fields\": [\n    {\n      \"column\": \"MarketID\",\n      \"properties\": {\n        \"dtype\": \"number\",\n        \"std\": 2,\n        \"min\": 1,\n        \"max\": 10,\n        \"num_unique_values\": 10,\n        \"samples\": [\n          9,\n          2,\n          6\n        ],\n        \"semantic_type\": \"\",\n        \"description\": \"\"\n      }\n    },\n    {\n      \"column\": \"MarketSize\",\n      \"properties\": {\n        \"dtype\": \"category\",\n        \"num_unique_values\": 3,\n        \"samples\": [\n          \"Medium\",\n          \"Small\",\n          \"Large\"\n        ],\n        \"semantic_type\": \"\",\n        \"description\": \"\"\n      }\n    },\n    {\n      \"column\": \"LocationID\",\n      \"properties\": {\n        \"dtype\": \"number\",\n        \"std\": 287,\n        \"min\": 1,\n        \"max\": 920,\n        \"num_unique_values\": 137,\n        \"samples\": [\n          711,\n          710,\n          13\n        ],\n        \"semantic_type\": \"\",\n        \"description\": \"\"\n      }\n    },\n    {\n      \"column\": \"AgeOfStore\",\n      \"properties\": {\n        \"dtype\": \"number\",\n        \"std\": 6,\n        \"min\": 1,\n        \"max\": 28,\n        \"num_unique_values\": 25,\n        \"samples\": [\n          8,\n          9,\n          4\n        ],\n        \"semantic_type\": \"\",\n        \"description\": \"\"\n      }\n    },\n    {\n      \"column\": \"Promotion\",\n      \"properties\": {\n        \"dtype\": \"number\",\n        \"std\": 0,\n        \"min\": 1,\n        \"max\": 3,\n        \"num_unique_values\": 3,\n        \"samples\": [\n          3,\n          2,\n          1\n        ],\n        \"semantic_type\": \"\",\n        \"description\": \"\"\n      }\n    },\n    {\n      \"column\": \"week\",\n      \"properties\": {\n        \"dtype\": \"number\",\n        \"std\": 1,\n        \"min\": 1,\n        \"max\": 4,\n        \"num_unique_values\": 4,\n        \"samples\": [\n          2,\n          4,\n          1\n        ],\n        \"semantic_type\": \"\",\n        \"description\": \"\"\n      }\n    },\n    {\n      \"column\": \"SalesInThousands\",\n      \"properties\": {\n        \"dtype\": \"number\",\n        \"std\": 16.755215821664237,\n        \"min\": 17.34,\n        \"max\": 99.65,\n        \"num_unique_values\": 517,\n        \"samples\": [\n          36.39,\n          51.52,\n          52.64\n        ],\n        \"semantic_type\": \"\",\n        \"description\": \"\"\n      }\n    },\n    {\n      \"column\": \"Log_Sales\",\n      \"properties\": {\n        \"dtype\": \"number\",\n        \"std\": 0.30764848249467724,\n        \"min\": 2.853015971352396,\n        \"max\": 4.6016640466588035,\n        \"num_unique_values\": 517,\n        \"samples\": [\n          3.5942940116240685,\n          3.9419700817960983,\n          3.9634762870170617\n        ],\n        \"semantic_type\": \"\",\n        \"description\": \"\"\n      }\n    }\n  ]\n}"
            }
          },
          "metadata": {},
          "execution_count": 61
        }
      ]
    },
    {
      "cell_type": "code",
      "source": [
        "# Cek Struktur Data\n",
        "df.info()"
      ],
      "metadata": {
        "colab": {
          "base_uri": "https://localhost:8080/"
        },
        "id": "XLCS1Cy8ZhPy",
        "outputId": "8906bbfb-bab4-4a58-cb72-473a52dcc083"
      },
      "execution_count": 62,
      "outputs": [
        {
          "output_type": "stream",
          "name": "stdout",
          "text": [
            "<class 'pandas.core.frame.DataFrame'>\n",
            "RangeIndex: 548 entries, 0 to 547\n",
            "Data columns (total 8 columns):\n",
            " #   Column            Non-Null Count  Dtype  \n",
            "---  ------            --------------  -----  \n",
            " 0   MarketID          548 non-null    int64  \n",
            " 1   MarketSize        548 non-null    object \n",
            " 2   LocationID        548 non-null    int64  \n",
            " 3   AgeOfStore        548 non-null    int64  \n",
            " 4   Promotion         548 non-null    int64  \n",
            " 5   week              548 non-null    int64  \n",
            " 6   SalesInThousands  548 non-null    float64\n",
            " 7   Log_Sales         548 non-null    float64\n",
            "dtypes: float64(2), int64(5), object(1)\n",
            "memory usage: 34.4+ KB\n"
          ]
        }
      ]
    },
    {
      "cell_type": "code",
      "source": [
        "# Cek Statistika Deskriptif\n",
        "df.describe()"
      ],
      "metadata": {
        "colab": {
          "base_uri": "https://localhost:8080/",
          "height": 300
        },
        "id": "PMUc2W_BZnCf",
        "outputId": "2086432c-4d23-4740-cf1c-979120359377"
      },
      "execution_count": 63,
      "outputs": [
        {
          "output_type": "execute_result",
          "data": {
            "text/plain": [
              "         MarketID  LocationID  AgeOfStore   Promotion        week  \\\n",
              "count  548.000000  548.000000  548.000000  548.000000  548.000000   \n",
              "mean     5.715328  479.656934    8.503650    2.029197    2.500000   \n",
              "std      2.877001  287.973679    6.638345    0.810729    1.119055   \n",
              "min      1.000000    1.000000    1.000000    1.000000    1.000000   \n",
              "25%      3.000000  216.000000    4.000000    1.000000    1.750000   \n",
              "50%      6.000000  504.000000    7.000000    2.000000    2.500000   \n",
              "75%      8.000000  708.000000   12.000000    3.000000    3.250000   \n",
              "max     10.000000  920.000000   28.000000    3.000000    4.000000   \n",
              "\n",
              "       SalesInThousands   Log_Sales  \n",
              "count        548.000000  548.000000  \n",
              "mean          53.466204    3.931895  \n",
              "std           16.755216    0.307648  \n",
              "min           17.340000    2.853016  \n",
              "25%           42.545000    3.750562  \n",
              "50%           50.200000    3.916015  \n",
              "75%           60.477500    4.102271  \n",
              "max           99.650000    4.601664  "
            ],
            "text/html": [
              "\n",
              "  <div id=\"df-d19980b8-c5c1-4400-aa07-a9d74b42da69\" class=\"colab-df-container\">\n",
              "    <div>\n",
              "<style scoped>\n",
              "    .dataframe tbody tr th:only-of-type {\n",
              "        vertical-align: middle;\n",
              "    }\n",
              "\n",
              "    .dataframe tbody tr th {\n",
              "        vertical-align: top;\n",
              "    }\n",
              "\n",
              "    .dataframe thead th {\n",
              "        text-align: right;\n",
              "    }\n",
              "</style>\n",
              "<table border=\"1\" class=\"dataframe\">\n",
              "  <thead>\n",
              "    <tr style=\"text-align: right;\">\n",
              "      <th></th>\n",
              "      <th>MarketID</th>\n",
              "      <th>LocationID</th>\n",
              "      <th>AgeOfStore</th>\n",
              "      <th>Promotion</th>\n",
              "      <th>week</th>\n",
              "      <th>SalesInThousands</th>\n",
              "      <th>Log_Sales</th>\n",
              "    </tr>\n",
              "  </thead>\n",
              "  <tbody>\n",
              "    <tr>\n",
              "      <th>count</th>\n",
              "      <td>548.000000</td>\n",
              "      <td>548.000000</td>\n",
              "      <td>548.000000</td>\n",
              "      <td>548.000000</td>\n",
              "      <td>548.000000</td>\n",
              "      <td>548.000000</td>\n",
              "      <td>548.000000</td>\n",
              "    </tr>\n",
              "    <tr>\n",
              "      <th>mean</th>\n",
              "      <td>5.715328</td>\n",
              "      <td>479.656934</td>\n",
              "      <td>8.503650</td>\n",
              "      <td>2.029197</td>\n",
              "      <td>2.500000</td>\n",
              "      <td>53.466204</td>\n",
              "      <td>3.931895</td>\n",
              "    </tr>\n",
              "    <tr>\n",
              "      <th>std</th>\n",
              "      <td>2.877001</td>\n",
              "      <td>287.973679</td>\n",
              "      <td>6.638345</td>\n",
              "      <td>0.810729</td>\n",
              "      <td>1.119055</td>\n",
              "      <td>16.755216</td>\n",
              "      <td>0.307648</td>\n",
              "    </tr>\n",
              "    <tr>\n",
              "      <th>min</th>\n",
              "      <td>1.000000</td>\n",
              "      <td>1.000000</td>\n",
              "      <td>1.000000</td>\n",
              "      <td>1.000000</td>\n",
              "      <td>1.000000</td>\n",
              "      <td>17.340000</td>\n",
              "      <td>2.853016</td>\n",
              "    </tr>\n",
              "    <tr>\n",
              "      <th>25%</th>\n",
              "      <td>3.000000</td>\n",
              "      <td>216.000000</td>\n",
              "      <td>4.000000</td>\n",
              "      <td>1.000000</td>\n",
              "      <td>1.750000</td>\n",
              "      <td>42.545000</td>\n",
              "      <td>3.750562</td>\n",
              "    </tr>\n",
              "    <tr>\n",
              "      <th>50%</th>\n",
              "      <td>6.000000</td>\n",
              "      <td>504.000000</td>\n",
              "      <td>7.000000</td>\n",
              "      <td>2.000000</td>\n",
              "      <td>2.500000</td>\n",
              "      <td>50.200000</td>\n",
              "      <td>3.916015</td>\n",
              "    </tr>\n",
              "    <tr>\n",
              "      <th>75%</th>\n",
              "      <td>8.000000</td>\n",
              "      <td>708.000000</td>\n",
              "      <td>12.000000</td>\n",
              "      <td>3.000000</td>\n",
              "      <td>3.250000</td>\n",
              "      <td>60.477500</td>\n",
              "      <td>4.102271</td>\n",
              "    </tr>\n",
              "    <tr>\n",
              "      <th>max</th>\n",
              "      <td>10.000000</td>\n",
              "      <td>920.000000</td>\n",
              "      <td>28.000000</td>\n",
              "      <td>3.000000</td>\n",
              "      <td>4.000000</td>\n",
              "      <td>99.650000</td>\n",
              "      <td>4.601664</td>\n",
              "    </tr>\n",
              "  </tbody>\n",
              "</table>\n",
              "</div>\n",
              "    <div class=\"colab-df-buttons\">\n",
              "\n",
              "  <div class=\"colab-df-container\">\n",
              "    <button class=\"colab-df-convert\" onclick=\"convertToInteractive('df-d19980b8-c5c1-4400-aa07-a9d74b42da69')\"\n",
              "            title=\"Convert this dataframe to an interactive table.\"\n",
              "            style=\"display:none;\">\n",
              "\n",
              "  <svg xmlns=\"http://www.w3.org/2000/svg\" height=\"24px\" viewBox=\"0 -960 960 960\">\n",
              "    <path d=\"M120-120v-720h720v720H120Zm60-500h600v-160H180v160Zm220 220h160v-160H400v160Zm0 220h160v-160H400v160ZM180-400h160v-160H180v160Zm440 0h160v-160H620v160ZM180-180h160v-160H180v160Zm440 0h160v-160H620v160Z\"/>\n",
              "  </svg>\n",
              "    </button>\n",
              "\n",
              "  <style>\n",
              "    .colab-df-container {\n",
              "      display:flex;\n",
              "      gap: 12px;\n",
              "    }\n",
              "\n",
              "    .colab-df-convert {\n",
              "      background-color: #E8F0FE;\n",
              "      border: none;\n",
              "      border-radius: 50%;\n",
              "      cursor: pointer;\n",
              "      display: none;\n",
              "      fill: #1967D2;\n",
              "      height: 32px;\n",
              "      padding: 0 0 0 0;\n",
              "      width: 32px;\n",
              "    }\n",
              "\n",
              "    .colab-df-convert:hover {\n",
              "      background-color: #E2EBFA;\n",
              "      box-shadow: 0px 1px 2px rgba(60, 64, 67, 0.3), 0px 1px 3px 1px rgba(60, 64, 67, 0.15);\n",
              "      fill: #174EA6;\n",
              "    }\n",
              "\n",
              "    .colab-df-buttons div {\n",
              "      margin-bottom: 4px;\n",
              "    }\n",
              "\n",
              "    [theme=dark] .colab-df-convert {\n",
              "      background-color: #3B4455;\n",
              "      fill: #D2E3FC;\n",
              "    }\n",
              "\n",
              "    [theme=dark] .colab-df-convert:hover {\n",
              "      background-color: #434B5C;\n",
              "      box-shadow: 0px 1px 3px 1px rgba(0, 0, 0, 0.15);\n",
              "      filter: drop-shadow(0px 1px 2px rgba(0, 0, 0, 0.3));\n",
              "      fill: #FFFFFF;\n",
              "    }\n",
              "  </style>\n",
              "\n",
              "    <script>\n",
              "      const buttonEl =\n",
              "        document.querySelector('#df-d19980b8-c5c1-4400-aa07-a9d74b42da69 button.colab-df-convert');\n",
              "      buttonEl.style.display =\n",
              "        google.colab.kernel.accessAllowed ? 'block' : 'none';\n",
              "\n",
              "      async function convertToInteractive(key) {\n",
              "        const element = document.querySelector('#df-d19980b8-c5c1-4400-aa07-a9d74b42da69');\n",
              "        const dataTable =\n",
              "          await google.colab.kernel.invokeFunction('convertToInteractive',\n",
              "                                                    [key], {});\n",
              "        if (!dataTable) return;\n",
              "\n",
              "        const docLinkHtml = 'Like what you see? Visit the ' +\n",
              "          '<a target=\"_blank\" href=https://colab.research.google.com/notebooks/data_table.ipynb>data table notebook</a>'\n",
              "          + ' to learn more about interactive tables.';\n",
              "        element.innerHTML = '';\n",
              "        dataTable['output_type'] = 'display_data';\n",
              "        await google.colab.output.renderOutput(dataTable, element);\n",
              "        const docLink = document.createElement('div');\n",
              "        docLink.innerHTML = docLinkHtml;\n",
              "        element.appendChild(docLink);\n",
              "      }\n",
              "    </script>\n",
              "  </div>\n",
              "\n",
              "\n",
              "    <div id=\"df-2f20959c-33f9-4c9c-bdcd-e953243f214d\">\n",
              "      <button class=\"colab-df-quickchart\" onclick=\"quickchart('df-2f20959c-33f9-4c9c-bdcd-e953243f214d')\"\n",
              "                title=\"Suggest charts\"\n",
              "                style=\"display:none;\">\n",
              "\n",
              "<svg xmlns=\"http://www.w3.org/2000/svg\" height=\"24px\"viewBox=\"0 0 24 24\"\n",
              "     width=\"24px\">\n",
              "    <g>\n",
              "        <path d=\"M19 3H5c-1.1 0-2 .9-2 2v14c0 1.1.9 2 2 2h14c1.1 0 2-.9 2-2V5c0-1.1-.9-2-2-2zM9 17H7v-7h2v7zm4 0h-2V7h2v10zm4 0h-2v-4h2v4z\"/>\n",
              "    </g>\n",
              "</svg>\n",
              "      </button>\n",
              "\n",
              "<style>\n",
              "  .colab-df-quickchart {\n",
              "      --bg-color: #E8F0FE;\n",
              "      --fill-color: #1967D2;\n",
              "      --hover-bg-color: #E2EBFA;\n",
              "      --hover-fill-color: #174EA6;\n",
              "      --disabled-fill-color: #AAA;\n",
              "      --disabled-bg-color: #DDD;\n",
              "  }\n",
              "\n",
              "  [theme=dark] .colab-df-quickchart {\n",
              "      --bg-color: #3B4455;\n",
              "      --fill-color: #D2E3FC;\n",
              "      --hover-bg-color: #434B5C;\n",
              "      --hover-fill-color: #FFFFFF;\n",
              "      --disabled-bg-color: #3B4455;\n",
              "      --disabled-fill-color: #666;\n",
              "  }\n",
              "\n",
              "  .colab-df-quickchart {\n",
              "    background-color: var(--bg-color);\n",
              "    border: none;\n",
              "    border-radius: 50%;\n",
              "    cursor: pointer;\n",
              "    display: none;\n",
              "    fill: var(--fill-color);\n",
              "    height: 32px;\n",
              "    padding: 0;\n",
              "    width: 32px;\n",
              "  }\n",
              "\n",
              "  .colab-df-quickchart:hover {\n",
              "    background-color: var(--hover-bg-color);\n",
              "    box-shadow: 0 1px 2px rgba(60, 64, 67, 0.3), 0 1px 3px 1px rgba(60, 64, 67, 0.15);\n",
              "    fill: var(--button-hover-fill-color);\n",
              "  }\n",
              "\n",
              "  .colab-df-quickchart-complete:disabled,\n",
              "  .colab-df-quickchart-complete:disabled:hover {\n",
              "    background-color: var(--disabled-bg-color);\n",
              "    fill: var(--disabled-fill-color);\n",
              "    box-shadow: none;\n",
              "  }\n",
              "\n",
              "  .colab-df-spinner {\n",
              "    border: 2px solid var(--fill-color);\n",
              "    border-color: transparent;\n",
              "    border-bottom-color: var(--fill-color);\n",
              "    animation:\n",
              "      spin 1s steps(1) infinite;\n",
              "  }\n",
              "\n",
              "  @keyframes spin {\n",
              "    0% {\n",
              "      border-color: transparent;\n",
              "      border-bottom-color: var(--fill-color);\n",
              "      border-left-color: var(--fill-color);\n",
              "    }\n",
              "    20% {\n",
              "      border-color: transparent;\n",
              "      border-left-color: var(--fill-color);\n",
              "      border-top-color: var(--fill-color);\n",
              "    }\n",
              "    30% {\n",
              "      border-color: transparent;\n",
              "      border-left-color: var(--fill-color);\n",
              "      border-top-color: var(--fill-color);\n",
              "      border-right-color: var(--fill-color);\n",
              "    }\n",
              "    40% {\n",
              "      border-color: transparent;\n",
              "      border-right-color: var(--fill-color);\n",
              "      border-top-color: var(--fill-color);\n",
              "    }\n",
              "    60% {\n",
              "      border-color: transparent;\n",
              "      border-right-color: var(--fill-color);\n",
              "    }\n",
              "    80% {\n",
              "      border-color: transparent;\n",
              "      border-right-color: var(--fill-color);\n",
              "      border-bottom-color: var(--fill-color);\n",
              "    }\n",
              "    90% {\n",
              "      border-color: transparent;\n",
              "      border-bottom-color: var(--fill-color);\n",
              "    }\n",
              "  }\n",
              "</style>\n",
              "\n",
              "      <script>\n",
              "        async function quickchart(key) {\n",
              "          const quickchartButtonEl =\n",
              "            document.querySelector('#' + key + ' button');\n",
              "          quickchartButtonEl.disabled = true;  // To prevent multiple clicks.\n",
              "          quickchartButtonEl.classList.add('colab-df-spinner');\n",
              "          try {\n",
              "            const charts = await google.colab.kernel.invokeFunction(\n",
              "                'suggestCharts', [key], {});\n",
              "          } catch (error) {\n",
              "            console.error('Error during call to suggestCharts:', error);\n",
              "          }\n",
              "          quickchartButtonEl.classList.remove('colab-df-spinner');\n",
              "          quickchartButtonEl.classList.add('colab-df-quickchart-complete');\n",
              "        }\n",
              "        (() => {\n",
              "          let quickchartButtonEl =\n",
              "            document.querySelector('#df-2f20959c-33f9-4c9c-bdcd-e953243f214d button');\n",
              "          quickchartButtonEl.style.display =\n",
              "            google.colab.kernel.accessAllowed ? 'block' : 'none';\n",
              "        })();\n",
              "      </script>\n",
              "    </div>\n",
              "\n",
              "    </div>\n",
              "  </div>\n"
            ],
            "application/vnd.google.colaboratory.intrinsic+json": {
              "type": "dataframe",
              "summary": "{\n  \"name\": \"df\",\n  \"rows\": 8,\n  \"fields\": [\n    {\n      \"column\": \"MarketID\",\n      \"properties\": {\n        \"dtype\": \"number\",\n        \"std\": 191.92127039894453,\n        \"min\": 1.0,\n        \"max\": 548.0,\n        \"num_unique_values\": 8,\n        \"samples\": [\n          5.7153284671532845,\n          6.0,\n          548.0\n        ],\n        \"semantic_type\": \"\",\n        \"description\": \"\"\n      }\n    },\n    {\n      \"column\": \"LocationID\",\n      \"properties\": {\n        \"dtype\": \"number\",\n        \"std\": 288.5804970099677,\n        \"min\": 1.0,\n        \"max\": 920.0,\n        \"num_unique_values\": 8,\n        \"samples\": [\n          479.6569343065693,\n          504.0,\n          548.0\n        ],\n        \"semantic_type\": \"\",\n        \"description\": \"\"\n      }\n    },\n    {\n      \"column\": \"AgeOfStore\",\n      \"properties\": {\n        \"dtype\": \"number\",\n        \"std\": 190.53099502019145,\n        \"min\": 1.0,\n        \"max\": 548.0,\n        \"num_unique_values\": 8,\n        \"samples\": [\n          8.503649635036496,\n          7.0,\n          548.0\n        ],\n        \"semantic_type\": \"\",\n        \"description\": \"\"\n      }\n    },\n    {\n      \"column\": \"Promotion\",\n      \"properties\": {\n        \"dtype\": \"number\",\n        \"std\": 193.10067585457892,\n        \"min\": 0.8107288421051005,\n        \"max\": 548.0,\n        \"num_unique_values\": 6,\n        \"samples\": [\n          548.0,\n          2.0291970802919708,\n          3.0\n        ],\n        \"semantic_type\": \"\",\n        \"description\": \"\"\n      }\n    },\n    {\n      \"column\": \"week\",\n      \"properties\": {\n        \"dtype\": \"number\",\n        \"std\": 192.93581045414467,\n        \"min\": 1.0,\n        \"max\": 548.0,\n        \"num_unique_values\": 7,\n        \"samples\": [\n          548.0,\n          2.5,\n          3.25\n        ],\n        \"semantic_type\": \"\",\n        \"description\": \"\"\n      }\n    },\n    {\n      \"column\": \"SalesInThousands\",\n      \"properties\": {\n        \"dtype\": \"number\",\n        \"std\": 178.48467784527566,\n        \"min\": 16.755215821664237,\n        \"max\": 548.0,\n        \"num_unique_values\": 8,\n        \"samples\": [\n          53.46620437956205,\n          50.2,\n          548.0\n        ],\n        \"semantic_type\": \"\",\n        \"description\": \"\"\n      }\n    },\n    {\n      \"column\": \"Log_Sales\",\n      \"properties\": {\n        \"dtype\": \"number\",\n        \"std\": 192.56681389832207,\n        \"min\": 0.30764848249467724,\n        \"max\": 548.0,\n        \"num_unique_values\": 8,\n        \"samples\": [\n          3.931895063161449,\n          3.9160150266976834,\n          548.0\n        ],\n        \"semantic_type\": \"\",\n        \"description\": \"\"\n      }\n    }\n  ]\n}"
            }
          },
          "metadata": {},
          "execution_count": 63
        }
      ]
    },
    {
      "cell_type": "code",
      "source": [
        "# Cek Missing Value\n",
        "df.isnull().sum()"
      ],
      "metadata": {
        "colab": {
          "base_uri": "https://localhost:8080/",
          "height": 335
        },
        "id": "cFPLUcGAZprT",
        "outputId": "22fee4b1-3a7e-4594-efd9-ac76d3c829a5"
      },
      "execution_count": 64,
      "outputs": [
        {
          "output_type": "execute_result",
          "data": {
            "text/plain": [
              "MarketID            0\n",
              "MarketSize          0\n",
              "LocationID          0\n",
              "AgeOfStore          0\n",
              "Promotion           0\n",
              "week                0\n",
              "SalesInThousands    0\n",
              "Log_Sales           0\n",
              "dtype: int64"
            ],
            "text/html": [
              "<div>\n",
              "<style scoped>\n",
              "    .dataframe tbody tr th:only-of-type {\n",
              "        vertical-align: middle;\n",
              "    }\n",
              "\n",
              "    .dataframe tbody tr th {\n",
              "        vertical-align: top;\n",
              "    }\n",
              "\n",
              "    .dataframe thead th {\n",
              "        text-align: right;\n",
              "    }\n",
              "</style>\n",
              "<table border=\"1\" class=\"dataframe\">\n",
              "  <thead>\n",
              "    <tr style=\"text-align: right;\">\n",
              "      <th></th>\n",
              "      <th>0</th>\n",
              "    </tr>\n",
              "  </thead>\n",
              "  <tbody>\n",
              "    <tr>\n",
              "      <th>MarketID</th>\n",
              "      <td>0</td>\n",
              "    </tr>\n",
              "    <tr>\n",
              "      <th>MarketSize</th>\n",
              "      <td>0</td>\n",
              "    </tr>\n",
              "    <tr>\n",
              "      <th>LocationID</th>\n",
              "      <td>0</td>\n",
              "    </tr>\n",
              "    <tr>\n",
              "      <th>AgeOfStore</th>\n",
              "      <td>0</td>\n",
              "    </tr>\n",
              "    <tr>\n",
              "      <th>Promotion</th>\n",
              "      <td>0</td>\n",
              "    </tr>\n",
              "    <tr>\n",
              "      <th>week</th>\n",
              "      <td>0</td>\n",
              "    </tr>\n",
              "    <tr>\n",
              "      <th>SalesInThousands</th>\n",
              "      <td>0</td>\n",
              "    </tr>\n",
              "    <tr>\n",
              "      <th>Log_Sales</th>\n",
              "      <td>0</td>\n",
              "    </tr>\n",
              "  </tbody>\n",
              "</table>\n",
              "</div><br><label><b>dtype:</b> int64</label>"
            ]
          },
          "metadata": {},
          "execution_count": 64
        }
      ]
    },
    {
      "cell_type": "code",
      "source": [
        "# Cek Data Duplicate\n",
        "df.duplicated().sum()"
      ],
      "metadata": {
        "colab": {
          "base_uri": "https://localhost:8080/"
        },
        "id": "mhpVQEw8af3Q",
        "outputId": "b2d0850d-a469-40ff-8dc2-e88f249615f5"
      },
      "execution_count": 65,
      "outputs": [
        {
          "output_type": "execute_result",
          "data": {
            "text/plain": [
              "np.int64(0)"
            ]
          },
          "metadata": {},
          "execution_count": 65
        }
      ]
    },
    {
      "cell_type": "code",
      "source": [
        "# Cek keseimbangan observasi di setiap grup promosi\n",
        "print(\"\\nJumlah observasi per grup Promosi:\")\n",
        "print(df['Promotion'].value_counts())"
      ],
      "metadata": {
        "colab": {
          "base_uri": "https://localhost:8080/"
        },
        "id": "prADZ7x3aivj",
        "outputId": "f88c797c-eead-41ee-da80-edba40924923"
      },
      "execution_count": 66,
      "outputs": [
        {
          "output_type": "stream",
          "name": "stdout",
          "text": [
            "\n",
            "Jumlah observasi per grup Promosi:\n",
            "Promotion\n",
            "3    188\n",
            "2    188\n",
            "1    172\n",
            "Name: count, dtype: int64\n"
          ]
        }
      ]
    },
    {
      "cell_type": "code",
      "source": [
        "# Cek variabel lainnya\n",
        "print(\"Jumlah Lokasi:\", df['LocationID'].nunique())\n",
        "print(\"Ukuran Pasar:\", df['MarketSize'].unique())\n",
        "print(\"Rentang Usia Toko:\", df['AgeOfStore'].min(), \"-\", df['AgeOfStore'].max())\n",
        "print(\"Minggu ke:\", df['week'].unique())"
      ],
      "metadata": {
        "colab": {
          "base_uri": "https://localhost:8080/"
        },
        "id": "T0B1pmnvrgbC",
        "outputId": "d68a01f0-fa5a-418a-b514-8e3705cb617b"
      },
      "execution_count": 67,
      "outputs": [
        {
          "output_type": "stream",
          "name": "stdout",
          "text": [
            "Jumlah Lokasi: 137\n",
            "Ukuran Pasar: ['Medium' 'Small' 'Large']\n",
            "Rentang Usia Toko: 1 - 28\n",
            "Minggu ke: [1 2 3 4]\n"
          ]
        }
      ]
    },
    {
      "cell_type": "markdown",
      "source": [
        "##**Visualisasi Distribusi Data**"
      ],
      "metadata": {
        "id": "JyFFqM8ou1tN"
      }
    },
    {
      "cell_type": "markdown",
      "source": [
        "Untuk memahami karakteristik data penjualan pada masing-masing jenis promosi, dilakukan beberapa visualisasi."
      ],
      "metadata": {
        "id": "XLsNDBJE8zpz"
      }
    },
    {
      "cell_type": "code",
      "source": [
        "# Visualisasi distribusi Penjualan berdasarkan grup Promosi\n",
        "plt.figure(figsize=(12, 5))\n",
        "\n",
        "# Histogram dengan KDE\n",
        "plt.subplot(1, 2, 1)\n",
        "sns.histplot(data=df, x='SalesInThousands', hue='Promotion', element='step', stat='density', common_norm=False, alpha=0.6)\n",
        "plt.title('Distribusi Penjualan berdasarkan Promosi')\n",
        "plt.xlabel('Penjualan (dalam Ribuan)')\n",
        "\n",
        "# Boxplot\n",
        "plt.subplot(1, 2, 2)\n",
        "sns.boxplot(data=df, x='Promotion', y='SalesInThousands')\n",
        "plt.title('Boxplot Penjualan berdasarkan Promosi')\n",
        "plt.ylabel('Penjualan (dalam Ribuan)')\n",
        "\n",
        "plt.tight_layout()\n",
        "plt.show()"
      ],
      "metadata": {
        "colab": {
          "base_uri": "https://localhost:8080/",
          "height": 354
        },
        "id": "6K_TQbOIbCEO",
        "outputId": "cef09591-b786-4542-a195-0b5296b1d22c"
      },
      "execution_count": 68,
      "outputs": [
        {
          "output_type": "display_data",
          "data": {
            "text/plain": [
              "<Figure size 1200x500 with 2 Axes>"
            ],
            "image/png": "[encoded data removed]"
          },
          "metadata": {}
        }
      ]
    },
    {
      "cell_type": "markdown",
      "source": [
        "Berdasarakan histogram distribusi penjualan, ketiga jenis promosi terlihat heavy-tailed, di mana sebagian besar data terkonsentrasi pada nilai penjualan yang relatif rendah, sementara terdapat sejumlah outlier pada nilai penjualan yang tinggi. Pola ini menunjukkan bahwa setiap promosi memiliki distribusi yang sedikit berbeda satu sama lain. Kondisi ini juga mengonfirmasi perlunya melakukan transformasi untuk mengatasi ketidaknormalan data, sekaligus menyoroti adanya perbedaan variansi antar kelompok.\n",
        "\n",
        "Lebih lanjut, outliers tampak jelas berada di atas whisker sebagai titik-titik terpisah dari box, sementara median yang ditunjukkan oleh garis tengah box berbeda antar kelompok promosi. Selain itu, tinggi box (IQR) memperlihatkan variasi sebaran data di dalam masing-masing grup. Hal ini mengindikasikan bahwa efektivitas promosi tidak hanya berbeda dari sisi nilai tengah penjualan, tetapi juga dari tingkat konsistensinya."
      ],
      "metadata": {
        "id": "FnFF2vtHjhPh"
      }
    },
    {
      "cell_type": "code",
      "source": [
        "# Membuat Q-Q plot untuk memeriksa normalitas data\n",
        "plt.figure(figsize=(8, 6))\n",
        "stats.probplot(df['SalesInThousands'], dist=\"norm\", plot=plt)\n",
        "plt.title('Q-Q Plot Data Penjualan')\n",
        "plt.show()"
      ],
      "metadata": {
        "colab": {
          "base_uri": "https://localhost:8080/",
          "height": 564
        },
        "id": "wRua_VzqbLNA",
        "outputId": "50cdf1f0-63cd-4216-9c31-4b355fcfb4dd"
      },
      "execution_count": 69,
      "outputs": [
        {
          "output_type": "display_data",
          "data": {
            "text/plain": [
              "<Figure size 800x600 with 1 Axes>"
            ],
            "image/png": "[encoded data removed]"
          },
          "metadata": {}
        }
      ]
    },
    {
      "cell_type": "markdown",
      "source": [
        "Q-Q plot data penjualan menunjukkan bahwa titik-titik data tidak mengikuti garis diagonal secara konsisten, terutama pada bagian ekor bawah dan atas distribusi. Pola ini menandakan bahwa data penjualan menyimpang dari distribusi normal, dengan adanya ekor berat (heavy tails) dan deviasi di area ekstrem. Hal ini menguatkan kebutuhan untuk melakukan transformasi agar asumsi normalitas lebih mendekati terpenuhi sebelum dilakukan analisis lanjutan.\n"
      ],
      "metadata": {
        "id": "1HHMYfrnzi-9"
      }
    },
    {
      "cell_type": "markdown",
      "source": [
        "##**Transformasi Data**"
      ],
      "metadata": {
        "id": "nt4rDGHWvAQP"
      }
    },
    {
      "cell_type": "markdown",
      "source": [
        "Transformasi data dilakukan untuk memperbaiki distribusi yang tidak normal dan mengurangi pengaruh outlier sehingga analisis statistik menjadi lebih valid. Pada kasus ini, transformasi log dipilih karena data penjualan menunjukkan pola heavy-tailed dengan deviasi yang cukup besar pada ekor distribusi."
      ],
      "metadata": {
        "id": "QFlfjocQ0bde"
      }
    },
    {
      "cell_type": "code",
      "source": [
        "# Menerapkan transformasi log untuk menangani heavy tails\n",
        "df['Log_Sales'] = np.log(df['SalesInThousands'])"
      ],
      "metadata": {
        "id": "AqNz_p5cbdwD"
      },
      "execution_count": 70,
      "outputs": []
    },
    {
      "cell_type": "code",
      "source": [
        "# Cek distribusi setelah transformasi\n",
        "plt.figure(figsize=(12, 5))\n",
        "\n",
        "# Histogram dengan KDE\n",
        "plt.subplot(1, 2, 1)\n",
        "sns.histplot(data=df, x='Log_Sales', hue='Promotion', element='step', stat='density', common_norm=False, alpha=0.6)\n",
        "plt.title('Distribusi Log-Penjualan Berdasarkan Promosi')\n",
        "plt.xlabel('Log(Penjualan)')\n",
        "\n",
        "# Boxplot\n",
        "plt.subplot(1, 2, 2)\n",
        "sns.boxplot(data=df, x='Promotion', y='Log_Sales')\n",
        "plt.title('Boxplot Log-Penjualan Berdasarkan Promosi')\n",
        "plt.ylabel('Log(Penjualan)')\n",
        "plt.xlabel('Promosi')\n",
        "\n",
        "plt.tight_layout()\n",
        "plt.show()"
      ],
      "metadata": {
        "colab": {
          "base_uri": "https://localhost:8080/",
          "height": 354
        },
        "id": "SH6XevYKsABW",
        "outputId": "0d92e054-ff93-4d65-c56e-8db97151b8ae"
      },
      "execution_count": 71,
      "outputs": [
        {
          "output_type": "display_data",
          "data": {
            "text/plain": [
              "<Figure size 1200x500 with 2 Axes>"
            ],
            "image/png": "[encoded data removed]"
          },
          "metadata": {}
        }
      ]
    },
    {
      "cell_type": "markdown",
      "source": [
        "Setelah dilakukan transformasi log, distribusi penjualan untuk ketiga jenis promosi terlihat lebih simetris dan tidak lagi terlalu heavy-tailed. Pola distribusi menunjukkan konsentrasi data yang lebih merata di sekitar nilai tengah, sehingga perbedaan antar promosi dapat diamati dengan lebih jelas. Kondisi ini menandakan bahwa transformasi berhasil mengurangi deviasi ekstrem pada ekor distribusi sekaligus membuat bentuk distribusi lebih mendekati normal.\n",
        "\n",
        "\n",
        "Pada boxplot, jumlah dan tingkat ekstremitas outlier berkurang cukup signifikan, sementara median antar promosi menjadi lebih stabil. Tinggi box (IQR) juga tampak lebih seimbang antar kelompok, yang berarti variansi penjualan antar promosi lebih homogen dibandingkan sebelum transformasi. Dengan demikian, hasil transformasi log tidak hanya memperbaiki distribusi data, tetapi juga meningkatkan validitas asumsi untuk analisis statistik selanjutnya."
      ],
      "metadata": {
        "id": "P4R45zm_WPn_"
      }
    },
    {
      "cell_type": "code",
      "source": [
        "# Cek normalitas data setelah transformasi\n",
        "plt.figure(figsize=(8, 6))\n",
        "stats.probplot(df['Log_Sales'], dist=\"norm\", plot=plt)\n",
        "plt.title('Q-Q Plot Data Penjualan yang Ditransformasi Log')\n",
        "plt.show()"
      ],
      "metadata": {
        "colab": {
          "base_uri": "https://localhost:8080/",
          "height": 564
        },
        "id": "_viLg83FcgiC",
        "outputId": "c3d44bc3-79b7-4b84-da26-21639fabdcf3"
      },
      "execution_count": 72,
      "outputs": [
        {
          "output_type": "display_data",
          "data": {
            "text/plain": [
              "<Figure size 800x600 with 1 Axes>"
            ],
            "image/png": "[encoded data removed]"
          },
          "metadata": {}
        }
      ]
    },
    {
      "cell_type": "markdown",
      "source": [
        "Q-Q plot setelah transformasi log memperlihatkan bahwa sebagian besar titik mengikuti garis diagonal merah, yang menunjukkan distribusi data mendekati normal. Penyimpangan hanya terlihat pada bagian ekor, sehingga secara keseluruhan asumsi normalitas cukup terpenuhi untuk analisis statistik parametrik."
      ],
      "metadata": {
        "id": "zdvOKDHPXFxg"
      }
    },
    {
      "cell_type": "markdown",
      "source": [
        "Selanjutnya, untuk mengetahui apakah terdapat perbedaan rata-rata penjualan yang signifikan antar jenis promosi, dilakukan analisis statistik menggunakan uji ANOVA."
      ],
      "metadata": {
        "id": "HC4pdeP7k7D8"
      }
    },
    {
      "cell_type": "markdown",
      "source": [
        "##**Analisis Statistik: ANOVA**"
      ],
      "metadata": {
        "id": "OcBEdL_5vJCe"
      }
    },
    {
      "cell_type": "markdown",
      "source": [
        "Analisis ANOVA digunakan untuk menguji apakah terdapat perbedaan yang signifikan di antara beberapa kelompok promosi. Metode ini membantu menentukan apakah variasi penjualan disebabkan oleh jenis promosi yang berbeda atau hanya akibat variasi acak.\n",
        "\n",
        "Hipotesis:\n",
        "- H0: Semua promosi memiliki pengaruh yang sama terhadap penjualan.\n",
        "- H1: Minimal satu promosi berbeda pengaruhnya terhadap penjualan."
      ],
      "metadata": {
        "id": "lHLOw8pJ1wHF"
      }
    },
    {
      "cell_type": "code",
      "source": [
        "# ANOVA pada data yang sudah ditransformasi\n",
        "model = ols('Log_Sales ~ C(Promotion)', data=df).fit()\n",
        "anova_table = sm.stats.anova_lm(model, typ=2)\n",
        "print(anova_table)"
      ],
      "metadata": {
        "colab": {
          "base_uri": "https://localhost:8080/"
        },
        "id": "por46ceKmrlb",
        "outputId": "2e64f2cc-7ba6-437f-bb96-761c3de0b344"
      },
      "execution_count": 47,
      "outputs": [
        {
          "output_type": "stream",
          "name": "stdout",
          "text": [
            "                 sum_sq     df          F        PR(>F)\n",
            "C(Promotion)   4.598830    2.0  26.565419  9.796796e-12\n",
            "Residual      47.173401  545.0        NaN           NaN\n"
          ]
        }
      ]
    },
    {
      "cell_type": "markdown",
      "source": [
        "Nilai p-value yang sangat kecil (<0,05) menunjukkan bahwa minimal ada satu jenis promosi yang berpengaruh signifikan terhadap penjualan. Artinya, tidak semua promosi sama efeknya."
      ],
      "metadata": {
        "id": "17RN38Jf2LpV"
      }
    },
    {
      "cell_type": "code",
      "source": [
        "# Simpan nilai p-value\n",
        "p_value = anova_table['PR(>F)'][0]\n",
        "p_value"
      ],
      "metadata": {
        "colab": {
          "base_uri": "https://localhost:8080/"
        },
        "id": "gua_0sI8gIqV",
        "outputId": "1472a066-2c81-45cf-b219-bcdf1da51020"
      },
      "execution_count": 81,
      "outputs": [
        {
          "output_type": "stream",
          "name": "stderr",
          "text": [
            "/tmp/ipython-input-3126074182.py:2: FutureWarning: Series.__getitem__ treating keys as positions is deprecated. In a future version, integer keys will always be treated as labels (consistent with DataFrame behavior). To access a value by position, use `ser.iloc[pos]`\n",
            "  p_value = anova_table['PR(>F)'][0]\n"
          ]
        },
        {
          "output_type": "execute_result",
          "data": {
            "text/plain": [
              "np.float64(9.796796465206182e-12)"
            ]
          },
          "metadata": {},
          "execution_count": 81
        }
      ]
    },
    {
      "cell_type": "code",
      "source": [
        "# Sebagai validasi tambahan, lakukan uji Kruskal-Wallis (non-parametrik)\n",
        "from scipy.stats import kruskal\n",
        "\n",
        "kw_stat, kw_pvalue = kruskal(\n",
        "    df[df['Promotion'] == 1]['SalesInThousands'],\n",
        "    df[df['Promotion'] == 2]['SalesInThousands'],\n",
        "    df[df['Promotion'] == 3]['SalesInThousands'])\n",
        "\n",
        "print(f\"Statistic: {kw_stat:.4f}, p-value: {kw_pvalue:.6f}\")"
      ],
      "metadata": {
        "colab": {
          "base_uri": "https://localhost:8080/"
        },
        "id": "flukwrvRjWTq",
        "outputId": "91e48b0b-807f-45ec-d93e-cf301e3d5a4d"
      },
      "execution_count": 80,
      "outputs": [
        {
          "output_type": "stream",
          "name": "stdout",
          "text": [
            "Statistic: 53.2948, p-value: 0.000000\n"
          ]
        }
      ]
    },
    {
      "cell_type": "markdown",
      "source": [
        "Karena masih ada sedikit penyimpangan pada bagian ekor data setelah transformasi log, yang mungkin dapat mempengaruhi keakuratan ANOVA, maka untuk memastikan robustnes hasil dan tidak bergantung pada asumsi distribusi, dilakukan juga uji non-parametrik Kruskal-Wallis sebagai pelengkap. Sebagai uji non-parametrik, Kruskal-Wallis tidak memerlukan asumsi normalitas dan bekerja dengan meranking data untuk menguji perbedaan median antar grup. Hasil p-value 0.000000 mengonfirmasi bahwa setidaknya satu promosi memiliki performa penjualan yang secara statistik berbeda signifikan."
      ],
      "metadata": {
        "id": "1welfvjWmsq7"
      }
    },
    {
      "cell_type": "markdown",
      "source": [
        "Langkah selanjutnya adalah melakukan uji post-hoc (misal Tukey HSD) untuk menentukan promosi mana yang berbeda secara signifikan satu sama lain."
      ],
      "metadata": {
        "id": "bYCAofTwmrt3"
      }
    },
    {
      "cell_type": "markdown",
      "source": [
        "##**Uji Post-Hoc: Tukey HSD**"
      ],
      "metadata": {
        "id": "N-RpFQk3vUnl"
      }
    },
    {
      "cell_type": "markdown",
      "source": [
        "Uji Tukey HSD dilakukan untuk mengetahui pasangan promosi mana yang berbeda secara spesifik. Analisis ini tidak hanya menampilkan hasil dalam bentuk tabel, tetapi juga divisualisasikan dengan grafik untuk memperjelas perbedaan antar promosi. Hasil ini akan menjadi dasar dalam memilih promosi yang paling efektif.\n",
        "\n",
        "Rincian analisis:\n",
        "\n",
        "* Perbandingan berpasangan: Group1 vs Group2, Group1 vs Group3, Group2 vs Group3.\n",
        "* Visualisasi: Grafik perbedaan dan signifikansi antar promosi.\n",
        "* Keputusan bisnis: Menentukan promosi yang memberikan hasil terbaik.\n"
      ],
      "metadata": {
        "id": "YGmm3BqW3Q9h"
      }
    },
    {
      "cell_type": "code",
      "source": [
        "# Lakukan uji Tukey HSD untuk perbandingan berpasangan\n",
        "if anova_table['PR(>F)'].iloc[0] < 0.05:\n",
        "    tukey = pairwise_tukeyhsd(endog=df['Log_Sales'], groups=df['Promotion'], alpha=0.05)\n",
        "    print(tukey.summary())\n",
        "\n",
        "    # Visualisasi hasil uji Tukey\n",
        "    tukey.plot_simultaneous()\n",
        "    plt.title(\"Perbandingan Uji Tukey HSD\")\n",
        "    plt.show()\n",
        "else:\n",
        "    print(\"\\nTidak ditemukan perbedaan signifikan antara promosi (p > 0.05)\")"
      ],
      "metadata": {
        "colab": {
          "base_uri": "https://localhost:8080/",
          "height": 684
        },
        "id": "tuF0tzsom4_1",
        "outputId": "2087389b-ec32-466c-8025-d5e677a523a4"
      },
      "execution_count": null,
      "outputs": [
        {
          "output_type": "stream",
          "name": "stdout",
          "text": [
            "Multiple Comparison of Means - Tukey HSD, FWER=0.05 \n",
            "====================================================\n",
            "group1 group2 meandiff p-adj   lower   upper  reject\n",
            "----------------------------------------------------\n",
            "     1      2  -0.2156    0.0 -0.2886 -0.1427   True\n",
            "     1      3  -0.0541 0.1899 -0.1271  0.0188  False\n",
            "     2      3   0.1615    0.0  0.0902  0.2328   True\n",
            "----------------------------------------------------\n"
          ]
        },
        {
          "output_type": "display_data",
          "data": {
            "text/plain": [
              "<Figure size 1000x600 with 1 Axes>"
            ],
            "image/png": "[encoded data removed]"
          },
          "metadata": {}
        }
      ]
    },
    {
      "cell_type": "markdown",
      "source": [
        "Secara keseluruhan, Promosi 2 konsisten lebih rendah performanya dibanding Promosi 1 dan 3, sementara Promosi 1 dan 3 tidak berbeda signifikan sehingga keduanya dapat dianggap sama efektif."
      ],
      "metadata": {
        "id": "pDek9c-vbsoz"
      }
    },
    {
      "cell_type": "markdown",
      "source": [
        "Untuk memastikan bahwa perbedaan antar promosi benar-benar konsisten dan tidak hanya dipengaruhi oleh sampel yang ada, dilakukan validasi tambahan menggunakan metode bootstrap.\n"
      ],
      "metadata": {
        "id": "Bbk1t66lb6Jc"
      }
    },
    {
      "cell_type": "markdown",
      "source": [
        "##**Validasi dengan Bootstrap**"
      ],
      "metadata": {
        "id": "ihvK-oM1vfjM"
      }
    },
    {
      "cell_type": "markdown",
      "source": [
        "Metode bootstrap digunakan sebagai pendekatan non-parametrik untuk memvalidasi hasil analisis sebelumnya. Teknik ini menghasilkan confidence interval untuk estimasi rata-rata penjualan, sehingga memberikan gambaran rentang nilai yang mungkin terjadi di populasi. Selain itu, bootstrap berfungsi sebagai robustness check untuk memastikan bahwa hasil yang diperoleh tidak bergantung pada asumsi distribusi tertentu. Melalui pendekatan ini, besarnya perbedaan penjualan antar promosi dapat diestimasi dalam satuan yang lebih nyata, yaitu US Dollar."
      ],
      "metadata": {
        "id": "AvHPcKxFcsal"
      }
    },
    {
      "cell_type": "code",
      "source": [
        "# Hitung mean aktual dari data asli terlebih dahulu\n",
        "actual_means = df.groupby('Promotion')['SalesInThousands'].mean()\n",
        "\n",
        "# Pendekatan Bootstrap\n",
        "def bootstrap_means(data, n_bootstraps=10000):\n",
        "    \"\"\"Fungsi bootstrap untuk mendistribusikan sampling dari mean\"\"\"\n",
        "    boot_means = []\n",
        "    n = len(data)\n",
        "    for _ in range(n_bootstraps):\n",
        "        boot_sample = np.random.choice(data, size=n, replace=True)\n",
        "        boot_means.append(np.mean(boot_sample))\n",
        "    return boot_means\n",
        "\n",
        "# Mendapatkan distribusi bootstrap untuk setiap promosi\n",
        "promo_groups = df['Promotion'].unique()\n",
        "boot_results = {}\n",
        "\n",
        "for promo in sorted(promo_groups):\n",
        "    promo_data = df[df['Promotion'] == promo]['SalesInThousands']\n",
        "    boot_means = bootstrap_means(promo_data)\n",
        "    boot_results[promo] = boot_means\n",
        "\n",
        "# Menghitung 95% confidence interval untuk setiap promosi\n",
        "print(\"Hasil Bootstrap (95% Confidence Intervals):\")\n",
        "for promo, means in boot_results.items():\n",
        "    ci_low = np.percentile(means, 2.5)\n",
        "    ci_high = np.percentile(means, 97.5)\n",
        "    point_estimate = np.mean(means)\n",
        "    print(f\"Promosi {promo}: USD {point_estimate:.2f}K [{ci_low:.2f}K - {ci_high:.2f}K]\")\n",
        "\n",
        "# Menghitung perbedaan berpasangan antar promosi\n",
        "print(\"\\nPerbandingan Pasangan Bootstrap:\")\n",
        "comparisons = [(1, 2), (1, 3), (2, 3)]\n",
        "for promo_a, promo_b in comparisons:\n",
        "    diff_means = np.array(boot_results[promo_b]) - np.array(boot_results[promo_a])\n",
        "    ci_low = np.percentile(diff_means, 2.5)\n",
        "    ci_high = np.percentile(diff_means, 97.5)\n",
        "    point_estimate = np.mean(diff_means)\n",
        "\n",
        "    print(f\"Promo {promo_b} vs Promo {promo_a}: USD {point_estimate:.2f}K [{ci_low:.2f}K - {ci_high:.2f}K]\", end=\" \\n\")\n"
      ],
      "metadata": {
        "colab": {
          "base_uri": "https://localhost:8080/"
        },
        "id": "Fehdp7wSofLM",
        "outputId": "e4d0bfda-d90b-41ee-9607-a0ddd87acc20"
      },
      "execution_count": 113,
      "outputs": [
        {
          "output_type": "stream",
          "name": "stdout",
          "text": [
            "Hasil Bootstrap (95% Confidence Intervals):\n",
            "Promosi 1: USD 58.10K [55.67K - 60.59K]\n",
            "Promosi 2: USD 47.33K [45.18K - 49.54K]\n",
            "Promosi 3: USD 55.36K [53.02K - 57.77K]\n",
            "\n",
            "Perbandingan Pasangan Bootstrap:\n",
            "Promo 2 vs Promo 1: USD -10.77K [-14.05K - -7.43K] \n",
            "Promo 3 vs Promo 1: USD -2.74K [-6.14K - 0.68K] \n",
            "Promo 3 vs Promo 2: USD 8.03K [4.78K - 11.28K] \n"
          ]
        }
      ]
    },
    {
      "cell_type": "markdown",
      "source": [
        "Hasil validasi dengan bootstrap memperkuat temuan sebelumnya. Rata-rata penjualan Promosi 1 (USD 58,10K) dan Promosi 3 (USD 55,36K) berada pada tingkat yang lebih tinggi dibandingkan Promosi 2 (USD 47,33K), dengan interval kepercayaan yang tidak saling tumpang tindih. Perbandingan pasangan menunjukkan bahwa Promosi 1 secara signifikan lebih baik daripada Promosi 2, dan Promosi 3 juga secara signifikan lebih baik daripada Promosi 2. Sementara itu, selisih antara Promosi 1 dan Promosi 3 tidak signifikan karena interval perbedaannya mencakup nol. Dengan demikian, Promosi 2 terbukti paling tidak efektif, sedangkan Promosi 1 dan 3 dapat dianggap sama kuat dalam mendorong penjualan."
      ],
      "metadata": {
        "id": "ZYXuZ2igdQJ6"
      }
    },
    {
      "cell_type": "markdown",
      "source": [
        "##**Hasil**"
      ],
      "metadata": {
        "id": "unCXRPzzvn7c"
      }
    },
    {
      "cell_type": "code",
      "source": [
        "# Hitung promosi dengan mean tertinggi\n",
        "best_promo = actual_means.idxmax()\n",
        "best_sales = actual_means.max()\n",
        "worst_promo = actual_means.idxmin()\n",
        "worst_sales = actual_means.min()\n",
        "\n",
        "print(f\"Performa Penjualan:\")\n",
        "for promo in [1, 2, 3]:\n",
        "    mean_sales = actual_means[promo]\n",
        "    print(f\"• Promosi {promo}: USD {mean_sales:.2f}K\")\n",
        "\n",
        "print(f\"\\nPromosi Terbaik: Promosi {best_promo} (USD {best_sales:.2f}K)\")\n",
        "print(f\"Promosi Terburuk: Promosi {worst_promo} (USD {worst_sales:.2f}K)\")\n",
        "\n",
        "# Berdasarkan signifikansi\n",
        "print(f\"\\nPerbedaan antar promosi tidak signifikan secara statistik (p = {p_value:.4f})\")\n",
        "print(f\"Perbedaan antara promosi terbaik dan terburuk: USD {(best_sales-worst_sales):.2f}K\")"
      ],
      "metadata": {
        "colab": {
          "base_uri": "https://localhost:8080/"
        },
        "id": "oqq5xEGAdLKh",
        "outputId": "bb3c79ce-52e4-4273-908b-35686ce478c5"
      },
      "execution_count": 110,
      "outputs": [
        {
          "output_type": "stream",
          "name": "stdout",
          "text": [
            "Performa Penjualan:\n",
            "• Promosi 1: USD 58.10K\n",
            "• Promosi 2: USD 47.33K\n",
            "• Promosi 3: USD 55.36K\n",
            "\n",
            "Promosi Terbaik: Promosi 1 (USD 58.10K)\n",
            "Promosi Terburuk: Promosi 2 (USD 47.33K)\n",
            "\n",
            "Perbedaan antar promosi tidak signifikan secara statistik (p = 0.0000)\n",
            "Perbedaan antara promosi terbaik dan terburuk: USD 10.77K\n"
          ]
        }
      ]
    },
    {
      "cell_type": "markdown",
      "source": [
        "Promosi 2 secara konsisten memiliki performa terendah sehingga kurang efektif dalam meningkatkan penjualan. Sebaliknya, Promosi 1 dan Promosi 3 menunjukkan performa yang lebih baik dengan hasil yang tidak berbeda signifikan. Oleh karena itu, strategi promosi sebaiknya difokuskan pada Promosi 1 atau Promosi 3, sementara Promosi 2 dapat dipertimbangkan untuk dievaluasi atau diganti dengan pendekatan lain"
      ],
      "metadata": {
        "id": "2czGNZvThlMr"
      }
    }
  ]
}